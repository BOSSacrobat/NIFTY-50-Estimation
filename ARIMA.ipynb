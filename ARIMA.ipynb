{
 "cells": [
  {
   "cell_type": "code",
   "execution_count": 77,
   "id": "6ef9511e-e392-435d-a7b9-b5e663cf1400",
   "metadata": {},
   "outputs": [],
   "source": [
    "import os\n",
    "import pandas as pd\n",
    "import numpy as np\n",
    "import matplotlib.pyplot as plt\n",
    "import seaborn as sns\n",
    "from statsmodels.tsa.seasonal import seasonal_decompose\n",
    "from datetime import datetime\n",
    "import statsmodels.api as sm\n",
    "from statsmodels.tsa.stattools import adfuller\n",
    "from statsmodels.graphics.tsaplots import plot_acf, plot_pacf\n",
    "from PIL import Image\n",
    "from pmdarima import auto_arima\n",
    "from statsmodels.tsa.arima.model import ARIMA"
   ]
  },
  {
   "cell_type": "code",
   "execution_count": 78,
   "id": "c59c804b-123f-4d97-800e-0c6cd72d889e",
   "metadata": {},
   "outputs": [],
   "source": [
    "# Switch to the 'Agg' backend\n",
    "plt.switch_backend('Agg')\n",
    "\n",
    "# Step 1: Read the CSV file and parse the dates\n",
    "file_path = 'C:\\\\Users\\\\User\\\\OneDrive\\\\Desktop\\\\python project\\\\final_new_adj_data.csv'\n",
    "df = pd.read_csv(file_path)"
   ]
  },
  {
   "cell_type": "code",
   "execution_count": 79,
   "id": "b2f30629-3c18-4abe-90c8-e5bd5143e79f",
   "metadata": {},
   "outputs": [],
   "source": [
    "# Step 2: Convert 'Date' column to datetime, handling multiple formats\n",
    "def parse_date(date):\n",
    "    for fmt in ('%m/%d/%Y', '%m-%d-%Y', '%d/%m/%Y', '%d-%m-%Y'):\n",
    "        try:\n",
    "            return pd.to_datetime(date, format=fmt)\n",
    "        except ValueError:\n",
    "            continue\n",
    "    return pd.NaT\n",
    "\n",
    "df['Date'] = df['Date'].apply(parse_date)\n",
    "\n",
    "# Drop rows with invalid dates\n",
    "df = df.dropna(subset=['Date'])\n",
    "\n",
    "# Set the 'Date' column as the index and ensure it's a DatetimeIndex\n",
    "df.set_index('Date', inplace=True)"
   ]
  },
  {
   "cell_type": "code",
   "execution_count": 80,
   "id": "24879b85-8bca-46ed-b942-632d92454934",
   "metadata": {},
   "outputs": [
    {
     "name": "stdout",
     "output_type": "stream",
     "text": [
      "<class 'pandas.core.frame.DataFrame'>\n",
      "DatetimeIndex: 100120 entries, 2014-04-01 to 2024-05-30\n",
      "Data columns (total 7 columns):\n",
      " #   Column     Non-Null Count   Dtype  \n",
      "---  ------     --------------   -----  \n",
      " 0   Stock      100120 non-null  object \n",
      " 1   Open       100120 non-null  float64\n",
      " 2   High       100120 non-null  float64\n",
      " 3   Low        100120 non-null  float64\n",
      " 4   Close      100120 non-null  float64\n",
      " 5   Adj Close  100120 non-null  float64\n",
      " 6   Volume     100120 non-null  int64  \n",
      "dtypes: float64(5), int64(1), object(1)\n",
      "memory usage: 6.1+ MB\n",
      "None\n",
      "Columns in the DataFrame: Index(['Stock', 'Open', 'High', 'Low', 'Close', 'Adj Close', 'Volume'], dtype='object')\n",
      "                 Stock        Open        High         Low       Close  \\\n",
      "Date                                                                     \n",
      "2014-04-01  1.RELIANCE  427.907715  432.022217  424.844696  430.925018   \n",
      "2014-04-02  1.RELIANCE  432.022217  439.794037  428.867767  438.056793   \n",
      "2014-04-03  1.RELIANCE  437.416779  440.228333  429.919250  435.519531   \n",
      "2014-04-04  1.RELIANCE  435.222382  435.793823  430.444977  431.679321   \n",
      "2014-04-07  1.RELIANCE  431.565033  436.571014  427.153381  431.633606   \n",
      "\n",
      "             Adj Close    Volume  \n",
      "Date                              \n",
      "2014-04-01  402.424896   7820304  \n",
      "2014-04-02  409.085022  13390090  \n",
      "2014-04-03  406.715546  13275447  \n",
      "2014-04-04  403.129364   6256938  \n",
      "2014-04-07  403.086670   6452624  \n"
     ]
    }
   ],
   "source": [
    "# Step 3: Print info and head to check the data\n",
    "print(df.info())\n",
    "print(\"Columns in the DataFrame:\", df.columns)\n",
    "print(df.head())"
   ]
  },
  {
   "cell_type": "code",
   "execution_count": 82,
   "id": "6660eb7d-d485-45c0-8091-7e1acc06376d",
   "metadata": {},
   "outputs": [
    {
     "name": "stdout",
     "output_type": "stream",
     "text": [
      "<class 'pandas.core.frame.DataFrame'>\n",
      "Index: 7 entries, Stock to Volume\n",
      "Columns: 2503 entries, 2014-04-01 to 2024-05-30\n",
      "dtypes: object(2503)\n",
      "memory usage: 137.2+ KB\n",
      "None\n"
     ]
    }
   ],
   "source": [
    "# Step 4: Filter for the specific stock and transpose the DataFrame for plotting\n",
    "options1 = [\"1.RELIANCE\"]\n",
    "df1 = df[df['Stock'].isin(options1)].transpose()\n",
    "print(df1.info())"
   ]
  },
  {
   "cell_type": "code",
   "execution_count": 83,
   "id": "e5b61c8c-d717-48d5-8739-524c190ef406",
   "metadata": {},
   "outputs": [],
   "source": [
    "# Step 5: Prepare data for plotting the adjusted close price\n",
    "dates = df.index[df['Stock'] == '1.RELIANCE']\n",
    "y = df[df['Stock'] == '1.RELIANCE']['Adj Close']\n",
    "plt.plot(dates, y)\n",
    "plt.xlabel('Date')\n",
    "plt.ylabel('Adj Close')\n",
    "plt.title('ADJUSTED CLOSING PRICE: RELIANCE')\n",
    "plt.savefig('adj_close_price_reliance.png')\n",
    "plt.close()\n",
    "# Display the saved image\n",
    "image_path = 'adj_close_price_reliance.png'\n",
    "image = Image.open(image_path)\n",
    "image.show()"
   ]
  },
  {
   "cell_type": "code",
   "execution_count": 84,
   "id": "fc3da358-8e9d-49cc-9c17-59f99a4bd4f1",
   "metadata": {},
   "outputs": [
    {
     "name": "stdout",
     "output_type": "stream",
     "text": [
      "Step 6: DataFrame for specific stock (1.RELIANCE):\n",
      "                  Stock        Open        High         Low       Close  \\\n",
      "Date                                                                     \n",
      "2014-04-01  1.RELIANCE  427.907715  432.022217  424.844696  430.925018   \n",
      "2014-04-02  1.RELIANCE  432.022217  439.794037  428.867767  438.056793   \n",
      "2014-04-03  1.RELIANCE  437.416779  440.228333  429.919250  435.519531   \n",
      "2014-04-04  1.RELIANCE  435.222382  435.793823  430.444977  431.679321   \n",
      "2014-04-07  1.RELIANCE  431.565033  436.571014  427.153381  431.633606   \n",
      "\n",
      "             Adj Close    Volume  \n",
      "Date                              \n",
      "2014-04-01  402.424896   7820304  \n",
      "2014-04-02  409.085022  13390090  \n",
      "2014-04-03  406.715546  13275447  \n",
      "2014-04-04  403.129364   6256938  \n",
      "2014-04-07  403.086670   6452624  \n",
      "Index type before resampling: <class 'pandas.core.indexes.datetimes.DatetimeIndex'>\n",
      "Step 6: Resampled DataFrame by month-end:\n",
      "                                                         Stock          Open  \\\n",
      "Date                                                                          \n",
      "2014-04-30  1.RELIANCE1.RELIANCE1.RELIANCE1.RELIANCE1.RELI...   8286.665987   \n",
      "2014-05-31  1.RELIANCE1.RELIANCE1.RELIANCE1.RELIANCE1.RELI...  10023.509553   \n",
      "2014-06-30  1.RELIANCE1.RELIANCE1.RELIANCE1.RELIANCE1.RELI...  10310.518557   \n",
      "2014-07-31  1.RELIANCE1.RELIANCE1.RELIANCE1.RELIANCE1.RELI...  10118.714416   \n",
      "2014-08-31  1.RELIANCE1.RELIANCE1.RELIANCE1.RELIANCE1.RELI...   8630.843627   \n",
      "\n",
      "                    High           Low         Close    Adj Close     Volume  \n",
      "Date                                                                          \n",
      "2014-04-30   8370.350281   8210.799193   8278.048339  7730.562896  136562714  \n",
      "2014-05-31  10215.039336   9883.685212  10035.098666  9421.969452  207741179  \n",
      "2014-06-30  10407.095001  10159.105073  10275.065306  9690.183716  162807135  \n",
      "2014-07-31  10225.394196   9995.462340  10093.067443  9518.545744  159607447  \n",
      "2014-08-31   8690.869662   8560.782960   8620.671659  8129.962219  111518507  \n",
      "Final DataFrame after dropping Stock column:\n",
      "                     Open          High           Low         Close  \\\n",
      "Date                                                                 \n",
      "2014-04-30   8286.665987   8370.350281   8210.799193   8278.048339   \n",
      "2014-05-31  10023.509553  10215.039336   9883.685212  10035.098666   \n",
      "2014-06-30  10310.518557  10407.095001  10159.105073  10275.065306   \n",
      "2014-07-31  10118.714416  10225.394196   9995.462340  10093.067443   \n",
      "2014-08-31   8630.843627   8690.869662   8560.782960   8620.671659   \n",
      "\n",
      "              Adj Close     Volume  \n",
      "Date                                \n",
      "2014-04-30  7730.562896  136562714  \n",
      "2014-05-31  9421.969452  207741179  \n",
      "2014-06-30  9690.183716  162807135  \n",
      "2014-07-31  9518.545744  159607447  \n",
      "2014-08-31  8129.962219  111518507  \n"
     ]
    }
   ],
   "source": [
    "# Step 6: Filter the DataFrame for the specific stock and resample by month-end\n",
    "df_REL = df[df['Stock'] == '1.RELIANCE']\n",
    "print(\"Step 6: DataFrame for specific stock (1.RELIANCE):\\n\", df_REL.head())\n",
    "print(\"Index type before resampling:\", type(df_REL.index))\n",
    "dfm = df_REL.resample(rule='ME').sum()  # Use 'M' for month-end resampling\n",
    "print(\"Step 6: Resampled DataFrame by month-end:\\n\", dfm.head())\n",
    "dfm_1 = dfm.drop('Stock', axis=1)\n",
    "print(\"Final DataFrame after dropping Stock column:\\n\", dfm_1.head())"
   ]
  },
  {
   "cell_type": "code",
   "execution_count": 86,
   "id": "6857083c-f9cd-4dc3-bdf4-58e2981a708b",
   "metadata": {},
   "outputs": [],
   "source": [
    "# Step 7: Plot the resampled adjusted close prices\n",
    "dfm_1['Adj Close'].plot()\n",
    "plt.xlabel('Date')\n",
    "plt.ylabel('Adj Close Price Totals Monthly')\n",
    "plt.title('ADJUSTED CLOSING PRICE MONTHLY: RELIANCE')\n",
    "plt.savefig('adj_close_price_monthly_reliance.png')\n",
    "plt.close()\n",
    "# Display the saved image\n",
    "image_path1 = 'adj_close_price_monthly_reliance.png'\n",
    "image1 = Image.open(image_path1)\n",
    "image1.show()"
   ]
  },
  {
   "cell_type": "code",
   "execution_count": 87,
   "id": "418cc92a-88fe-41f0-9b39-672a3d5e5e5e",
   "metadata": {},
   "outputs": [],
   "source": [
    "# Step 8: Perform seasonal decomposition\n",
    "res = sm.tsa.seasonal_decompose(dfm_1['Adj Close'], model=\"multiplicative\")\n",
    "res.plot()\n",
    "plt.savefig('seasonal_decomposition_reliance.png')\n",
    "plt.close()\n",
    "\n",
    "# Display the saved image\n",
    "image_path2 = 'seasonal_decomposition_reliance.png'\n",
    "image2 = Image.open(image_path2)\n",
    "image2.show()"
   ]
  },
  {
   "cell_type": "code",
   "execution_count": 88,
   "id": "7bc4c6b7-d317-4c7e-b135-c6f2361bd1c8",
   "metadata": {},
   "outputs": [
    {
     "data": {
      "text/html": [
       "<div>\n",
       "<style scoped>\n",
       "    .dataframe tbody tr th:only-of-type {\n",
       "        vertical-align: middle;\n",
       "    }\n",
       "\n",
       "    .dataframe tbody tr th {\n",
       "        vertical-align: top;\n",
       "    }\n",
       "\n",
       "    .dataframe thead th {\n",
       "        text-align: right;\n",
       "    }\n",
       "</style>\n",
       "<table border=\"1\" class=\"dataframe\">\n",
       "  <thead>\n",
       "    <tr style=\"text-align: right;\">\n",
       "      <th></th>\n",
       "      <th>Adj Close</th>\n",
       "    </tr>\n",
       "    <tr>\n",
       "      <th>Date</th>\n",
       "      <th></th>\n",
       "    </tr>\n",
       "  </thead>\n",
       "  <tbody>\n",
       "    <tr>\n",
       "      <th>2024-01-31</th>\n",
       "      <td>56615.899657</td>\n",
       "    </tr>\n",
       "    <tr>\n",
       "      <th>2024-02-29</th>\n",
       "      <td>61423.399902</td>\n",
       "    </tr>\n",
       "    <tr>\n",
       "      <th>2024-03-31</th>\n",
       "      <td>52680.599853</td>\n",
       "    </tr>\n",
       "    <tr>\n",
       "      <th>2024-04-30</th>\n",
       "      <td>58723.249755</td>\n",
       "    </tr>\n",
       "    <tr>\n",
       "      <th>2024-05-31</th>\n",
       "      <td>57385.800049</td>\n",
       "    </tr>\n",
       "  </tbody>\n",
       "</table>\n",
       "</div>"
      ],
      "text/plain": [
       "               Adj Close\n",
       "Date                    \n",
       "2024-01-31  56615.899657\n",
       "2024-02-29  61423.399902\n",
       "2024-03-31  52680.599853\n",
       "2024-04-30  58723.249755\n",
       "2024-05-31  57385.800049"
      ]
     },
     "execution_count": 88,
     "metadata": {},
     "output_type": "execute_result"
    }
   ],
   "source": [
    "dfm_3=dfm_1[['Adj Close']]\n",
    "dfm_3.tail()"
   ]
  },
  {
   "cell_type": "code",
   "execution_count": 89,
   "id": "e56e2b1f-d188-4bd0-968d-62b7bd524153",
   "metadata": {},
   "outputs": [],
   "source": [
    "fig=plt.figure(figsize=(12,8))\n",
    "ax1=fig.add_subplot(211)\n",
    "fig=sm.graphics.tsa.plot_acf(dfm_3['Adj Close'].iloc[13:],lags=40,ax=ax1)\n",
    "ax2=fig.add_subplot(212)\n",
    "fig=sm.graphics.tsa.plot_pacf(dfm_3['Adj Close'].iloc[13:],lags=40,ax=ax2)\n",
    "# Saving the plots\n",
    "plt.savefig('Adj_Close_acf_pacf.png')\n",
    "plt.close()\n",
    "\n",
    "# Display the saved image\n",
    "image_path_Adj_Close_acf_pacf = 'Adj_Close_acf_pacf.png'\n",
    "image_Adj_Close_acf_pacf = Image.open(image_path_Adj_Close_acf_pacf)\n",
    "image_Adj_Close_acf_pacf.show()"
   ]
  },
  {
   "cell_type": "code",
   "execution_count": 91,
   "id": "7edff2a2-6d44-4e83-8ddf-9c9319373150",
   "metadata": {},
   "outputs": [],
   "source": [
    "### Testing for stationarity\n",
    " # Correct indentation\n",
    "from statsmodels.tsa.stattools import adfuller\n",
    "test_result=adfuller(dfm_3['Adj Close'])\n",
    "\n",
    "#Ho: It is non stationary\n",
    "#H1: It is stationary\n",
    "\n",
    "def adfuller_test(dfm_3):\n",
    "    result=adfuller(dfm_3)\n",
    "    labels=['ADF test statistic','p-value','#lags used','no. of observations used']\n",
    "    for value,label in zip(result,labels):\n",
    "        print(label+':'+str(value))\n",
    "    if result[1]<=0.05:\n",
    "        print(\"strong evidence against Ho,reject Ho,data is stationary\")\n",
    "    else:\n",
    "        print(\"weak evidence against Ho,accept Ho,data is non stationary\")"
   ]
  },
  {
   "cell_type": "code",
   "execution_count": 93,
   "id": "c55f3d7a-0c5f-41ce-bf66-b04d92d31f27",
   "metadata": {},
   "outputs": [
    {
     "name": "stdout",
     "output_type": "stream",
     "text": [
      "ADF test statistic:0.9574584852288655\n",
      "p-value:0.9937961753183001\n",
      "#lags used:10\n",
      "no. of observations used:111\n",
      "weak evidence against Ho,accept Ho,data is non stationary\n"
     ]
    }
   ],
   "source": [
    "adfuller_test(dfm_3['Adj Close'])"
   ]
  },
  {
   "cell_type": "code",
   "execution_count": 94,
   "id": "81532f28-0a21-4f08-9235-6ea4cb837c8f",
   "metadata": {},
   "outputs": [],
   "source": [
    "from pmdarima import auto_arima\n",
    "# Ignore harmless warnings\n",
    "import warnings\n",
    "warnings.filterwarnings(\"ignore\")"
   ]
  },
  {
   "cell_type": "code",
   "execution_count": 95,
   "id": "d0afdb37-c33b-4dee-b447-c772582da5fe",
   "metadata": {},
   "outputs": [
    {
     "name": "stdout",
     "output_type": "stream",
     "text": [
      "ADF test statistic:-5.0473389047515\n",
      "p-value:1.7871952590653333e-05\n",
      "#lags used:9\n",
      "no. of observations used:111\n",
      "strong evidence against Ho,reject Ho,data is stationary\n",
      "ADF test statistic:-2.2314947182272635\n",
      "p-value:0.19501386571632084\n",
      "#lags used:12\n",
      "no. of observations used:97\n",
      "weak evidence against Ho,accept Ho,data is non stationary\n"
     ]
    }
   ],
   "source": [
    "## Differencing\n",
    "\n",
    "dfm_3['Adj_Close First Difference']=dfm_3['Adj Close']-dfm_3['Adj Close'].shift(1)\n",
    "dfm_3['Seasonal First Difference']=dfm_3['Adj Close']-dfm_3['Adj Close'].shift(12)\n",
    "adfuller_test(dfm_3['Adj_Close First Difference'].dropna())\n",
    "adfuller_test(dfm_3['Seasonal First Difference'].dropna())"
   ]
  },
  {
   "cell_type": "code",
   "execution_count": 96,
   "id": "65a64690-58f2-4c07-aabb-37395891db8d",
   "metadata": {},
   "outputs": [],
   "source": [
    "fig=plt.figure(figsize=(12,8))\n",
    "ax1=fig.add_subplot(211)\n",
    "fig=sm.graphics.tsa.plot_acf(dfm_3['Adj_Close First Difference'].iloc[13:],lags=40,ax=ax1)\n",
    "ax2=fig.add_subplot(212)\n",
    "fig=sm.graphics.tsa.plot_pacf(dfm_3['Adj_Close First Difference'].iloc[13:],lags=40,ax=ax2)\n",
    "# Saving the plots\n",
    "plt.savefig('Adj_Close_First_Difference_acf_pacf.png')\n",
    "plt.close()\n",
    "\n",
    "# Display the saved image\n",
    "image_path_Adj_Close_First_Difference_acf_pacf = 'Adj_Close_First_Difference_acf_pacf.png'\n",
    "image_Adj_Close_First_Difference_acf_pacf = Image.open(image_path_Adj_Close_First_Difference_acf_pacf)\n",
    "image_Adj_Close_First_Difference_acf_pacf.show()"
   ]
  },
  {
   "cell_type": "code",
   "execution_count": 97,
   "id": "0f596ed6-1fa9-41c8-bd10-d8eeaaa3d495",
   "metadata": {},
   "outputs": [
    {
     "name": "stdout",
     "output_type": "stream",
     "text": [
      "ADF test statistic:-3.7803685255509123\n",
      "p-value:0.0031146794634063267\n",
      "#lags used:11\n",
      "no. of observations used:97\n",
      "strong evidence against Ho,reject Ho,data is stationary\n"
     ]
    }
   ],
   "source": [
    "\n",
    "dfm_3['Seasonal Second Difference'] = dfm_3['Adj_Close First Difference'] - dfm_3['Adj_Close First Difference'].shift(12)\n",
    "adfuller_test(dfm_3['Seasonal Second Difference'].dropna())"
   ]
  },
  {
   "cell_type": "code",
   "execution_count": 98,
   "id": "623c4189-bc2c-4fc0-a8ed-35396d0bf0a7",
   "metadata": {},
   "outputs": [],
   "source": [
    "fig=plt.figure(figsize=(12,8))\n",
    "ax1=fig.add_subplot(211)\n",
    "fig=sm.graphics.tsa.plot_acf(dfm_3['Seasonal Second Difference'].iloc[13:],lags=40,ax=ax1)\n",
    "ax2=fig.add_subplot(212)\n",
    "fig=sm.graphics.tsa.plot_pacf(dfm_3['Seasonal Second Difference'].iloc[13:],lags=40,ax=ax2)\n",
    "# Saving the plots\n",
    "plt.savefig('Seasonal_Second_Difference_acf_pacf.png')\n",
    "plt.close()\n",
    "\n",
    "# Display the saved image\n",
    "image_path_Seasonal_Second_Difference_acf_pacf = 'Seasonal_Second_Difference_acf_pacf.png'\n",
    "image_Seasonal_Second_Difference_acf_pacf = Image.open(image_path_Seasonal_Second_Difference_acf_pacf)\n",
    "image_Seasonal_Second_Difference_acf_pacf.show()"
   ]
  },
  {
   "cell_type": "code",
   "execution_count": 99,
   "id": "c790117d-0089-44fc-bf64-25f0179d43fb",
   "metadata": {},
   "outputs": [
    {
     "name": "stdout",
     "output_type": "stream",
     "text": [
      "Performing stepwise search to minimize aic\n",
      " ARIMA(2,1,2)(1,0,1)[12] intercept   : AIC=2297.325, Time=0.65 sec\n",
      " ARIMA(0,1,0)(0,0,0)[12] intercept   : AIC=2319.409, Time=0.01 sec\n",
      " ARIMA(1,1,0)(1,0,0)[12] intercept   : AIC=2316.163, Time=0.13 sec\n",
      " ARIMA(0,1,1)(0,0,1)[12] intercept   : AIC=2314.863, Time=0.05 sec\n",
      " ARIMA(0,1,0)(0,0,0)[12]             : AIC=2319.104, Time=0.01 sec\n",
      " ARIMA(2,1,2)(0,0,1)[12] intercept   : AIC=2296.418, Time=0.48 sec\n",
      " ARIMA(2,1,2)(0,0,0)[12] intercept   : AIC=2294.457, Time=0.18 sec\n",
      " ARIMA(2,1,2)(1,0,0)[12] intercept   : AIC=2296.434, Time=0.63 sec\n",
      " ARIMA(1,1,2)(0,0,0)[12] intercept   : AIC=2307.919, Time=0.26 sec\n",
      " ARIMA(2,1,1)(0,0,0)[12] intercept   : AIC=2315.367, Time=0.06 sec\n",
      " ARIMA(3,1,2)(0,0,0)[12] intercept   : AIC=2296.411, Time=0.22 sec\n",
      " ARIMA(2,1,3)(0,0,0)[12] intercept   : AIC=2297.585, Time=0.45 sec\n",
      " ARIMA(1,1,1)(0,0,0)[12] intercept   : AIC=2306.337, Time=0.22 sec\n",
      " ARIMA(1,1,3)(0,0,0)[12] intercept   : AIC=2314.118, Time=0.30 sec\n",
      " ARIMA(3,1,1)(0,0,0)[12] intercept   : AIC=2316.051, Time=0.20 sec\n",
      " ARIMA(3,1,3)(0,0,0)[12] intercept   : AIC=2291.925, Time=0.42 sec\n",
      " ARIMA(3,1,3)(1,0,0)[12] intercept   : AIC=2293.576, Time=0.47 sec\n",
      " ARIMA(3,1,3)(0,0,1)[12] intercept   : AIC=2293.890, Time=1.01 sec\n",
      " ARIMA(3,1,3)(1,0,1)[12] intercept   : AIC=2293.729, Time=0.76 sec\n",
      " ARIMA(4,1,3)(0,0,0)[12] intercept   : AIC=2284.111, Time=0.33 sec\n",
      " ARIMA(4,1,3)(1,0,0)[12] intercept   : AIC=2286.005, Time=0.26 sec\n",
      " ARIMA(4,1,3)(0,0,1)[12] intercept   : AIC=2285.634, Time=0.72 sec\n",
      " ARIMA(4,1,3)(1,0,1)[12] intercept   : AIC=2286.996, Time=0.37 sec\n",
      " ARIMA(4,1,2)(0,0,0)[12] intercept   : AIC=2282.254, Time=0.38 sec\n",
      " ARIMA(4,1,2)(1,0,0)[12] intercept   : AIC=2282.893, Time=0.74 sec\n",
      " ARIMA(4,1,2)(0,0,1)[12] intercept   : AIC=2282.742, Time=0.71 sec\n",
      " ARIMA(4,1,2)(1,0,1)[12] intercept   : AIC=2284.741, Time=0.75 sec\n",
      " ARIMA(4,1,1)(0,0,0)[12] intercept   : AIC=2289.026, Time=0.10 sec\n",
      " ARIMA(5,1,2)(0,0,0)[12] intercept   : AIC=2275.861, Time=0.49 sec\n",
      " ARIMA(5,1,2)(1,0,0)[12] intercept   : AIC=2277.231, Time=0.89 sec\n",
      " ARIMA(5,1,2)(0,0,1)[12] intercept   : AIC=2277.598, Time=0.62 sec\n",
      " ARIMA(5,1,2)(1,0,1)[12] intercept   : AIC=2277.331, Time=0.86 sec\n",
      " ARIMA(5,1,1)(0,0,0)[12] intercept   : AIC=2275.552, Time=0.20 sec\n",
      " ARIMA(5,1,1)(1,0,0)[12] intercept   : AIC=2276.336, Time=0.33 sec\n",
      " ARIMA(5,1,1)(0,0,1)[12] intercept   : AIC=2276.686, Time=0.22 sec\n",
      " ARIMA(5,1,1)(1,0,1)[12] intercept   : AIC=2278.135, Time=0.59 sec\n",
      " ARIMA(5,1,0)(0,0,0)[12] intercept   : AIC=2278.215, Time=0.06 sec\n",
      " ARIMA(4,1,0)(0,0,0)[12] intercept   : AIC=2294.616, Time=0.05 sec\n",
      " ARIMA(5,1,1)(0,0,0)[12]             : AIC=2285.151, Time=0.18 sec\n",
      "\n",
      "Best model:  ARIMA(5,1,1)(0,0,0)[12] intercept\n",
      "Total fit time: 15.407 seconds\n"
     ]
    }
   ],
   "source": [
    "\n",
    "stepwise_fit= auto_arima(\n",
    "    y=dfm_3['Adj Close'], \n",
    "    seasonal=True, \n",
    "    m=12,  # Assuming monthly seasonality; adjust as needed\n",
    "    stepwise=True, \n",
    "    trace=True, \n",
    "    error_action='ignore', \n",
    "    suppress_warnings=True\n",
    ")"
   ]
  },
  {
   "cell_type": "code",
   "execution_count": 100,
   "id": "09e00942-1b3e-4c3f-870d-7db28d9e3577",
   "metadata": {},
   "outputs": [
    {
     "data": {
      "text/html": [
       "<table class=\"simpletable\">\n",
       "<caption>SARIMAX Results</caption>\n",
       "<tr>\n",
       "  <th>Dep. Variable:</th>           <td>y</td>        <th>  No. Observations:  </th>    <td>122</td>   \n",
       "</tr>\n",
       "<tr>\n",
       "  <th>Model:</th>           <td>SARIMAX(5, 1, 1)</td> <th>  Log Likelihood     </th> <td>-1129.776</td>\n",
       "</tr>\n",
       "<tr>\n",
       "  <th>Date:</th>            <td>Tue, 27 Aug 2024</td> <th>  AIC                </th> <td>2275.552</td> \n",
       "</tr>\n",
       "<tr>\n",
       "  <th>Time:</th>                <td>18:43:58</td>     <th>  BIC                </th> <td>2297.919</td> \n",
       "</tr>\n",
       "<tr>\n",
       "  <th>Sample:</th>             <td>04-30-2014</td>    <th>  HQIC               </th> <td>2284.636</td> \n",
       "</tr>\n",
       "<tr>\n",
       "  <th></th>                   <td>- 05-31-2024</td>   <th>                     </th>     <td> </td>    \n",
       "</tr>\n",
       "<tr>\n",
       "  <th>Covariance Type:</th>        <td>opg</td>       <th>                     </th>     <td> </td>    \n",
       "</tr>\n",
       "</table>\n",
       "<table class=\"simpletable\">\n",
       "<tr>\n",
       "      <td></td>         <th>coef</th>     <th>std err</th>      <th>z</th>      <th>P>|z|</th>  <th>[0.025</th>    <th>0.975]</th>  \n",
       "</tr>\n",
       "<tr>\n",
       "  <th>intercept</th> <td> 1035.1494</td> <td>  404.056</td> <td>    2.562</td> <td> 0.010</td> <td>  243.214</td> <td> 1827.085</td>\n",
       "</tr>\n",
       "<tr>\n",
       "  <th>ar.L1</th>     <td>   -0.6734</td> <td>    0.160</td> <td>   -4.210</td> <td> 0.000</td> <td>   -0.987</td> <td>   -0.360</td>\n",
       "</tr>\n",
       "<tr>\n",
       "  <th>ar.L2</th>     <td>   -0.2260</td> <td>    0.079</td> <td>   -2.865</td> <td> 0.004</td> <td>   -0.381</td> <td>   -0.071</td>\n",
       "</tr>\n",
       "<tr>\n",
       "  <th>ar.L3</th>     <td>   -0.1109</td> <td>    0.071</td> <td>   -1.560</td> <td> 0.119</td> <td>   -0.250</td> <td>    0.028</td>\n",
       "</tr>\n",
       "<tr>\n",
       "  <th>ar.L4</th>     <td>   -0.4842</td> <td>    0.071</td> <td>   -6.844</td> <td> 0.000</td> <td>   -0.623</td> <td>   -0.346</td>\n",
       "</tr>\n",
       "<tr>\n",
       "  <th>ar.L5</th>     <td>   -0.5243</td> <td>    0.079</td> <td>   -6.607</td> <td> 0.000</td> <td>   -0.680</td> <td>   -0.369</td>\n",
       "</tr>\n",
       "<tr>\n",
       "  <th>ma.L1</th>     <td>    0.3899</td> <td>    0.196</td> <td>    1.989</td> <td> 0.047</td> <td>    0.006</td> <td>    0.774</td>\n",
       "</tr>\n",
       "<tr>\n",
       "  <th>sigma2</th>    <td> 7.944e+06</td> <td> 1.03e+06</td> <td>    7.723</td> <td> 0.000</td> <td> 5.93e+06</td> <td> 9.96e+06</td>\n",
       "</tr>\n",
       "</table>\n",
       "<table class=\"simpletable\">\n",
       "<tr>\n",
       "  <th>Ljung-Box (L1) (Q):</th>     <td>0.01</td> <th>  Jarque-Bera (JB):  </th> <td>4.20</td>\n",
       "</tr>\n",
       "<tr>\n",
       "  <th>Prob(Q):</th>                <td>0.94</td> <th>  Prob(JB):          </th> <td>0.12</td>\n",
       "</tr>\n",
       "<tr>\n",
       "  <th>Heteroskedasticity (H):</th> <td>6.98</td> <th>  Skew:              </th> <td>0.08</td>\n",
       "</tr>\n",
       "<tr>\n",
       "  <th>Prob(H) (two-sided):</th>    <td>0.00</td> <th>  Kurtosis:          </th> <td>3.90</td>\n",
       "</tr>\n",
       "</table><br/><br/>Warnings:<br/>[1] Covariance matrix calculated using the outer product of gradients (complex-step).<br/>[2] Covariance matrix is singular or near-singular, with condition number 6.84e+14. Standard errors may be unstable."
      ],
      "text/latex": [
       "\\begin{center}\n",
       "\\begin{tabular}{lclc}\n",
       "\\toprule\n",
       "\\textbf{Dep. Variable:}          &        y         & \\textbf{  No. Observations:  } &    122      \\\\\n",
       "\\textbf{Model:}                  & SARIMAX(5, 1, 1) & \\textbf{  Log Likelihood     } & -1129.776   \\\\\n",
       "\\textbf{Date:}                   & Tue, 27 Aug 2024 & \\textbf{  AIC                } &  2275.552   \\\\\n",
       "\\textbf{Time:}                   &     18:43:58     & \\textbf{  BIC                } &  2297.919   \\\\\n",
       "\\textbf{Sample:}                 &    04-30-2014    & \\textbf{  HQIC               } &  2284.636   \\\\\n",
       "\\textbf{}                        &   - 05-31-2024   & \\textbf{                     } &             \\\\\n",
       "\\textbf{Covariance Type:}        &       opg        & \\textbf{                     } &             \\\\\n",
       "\\bottomrule\n",
       "\\end{tabular}\n",
       "\\begin{tabular}{lcccccc}\n",
       "                   & \\textbf{coef} & \\textbf{std err} & \\textbf{z} & \\textbf{P$> |$z$|$} & \\textbf{[0.025} & \\textbf{0.975]}  \\\\\n",
       "\\midrule\n",
       "\\textbf{intercept} &    1035.1494  &      404.056     &     2.562  &         0.010        &      243.214    &     1827.085     \\\\\n",
       "\\textbf{ar.L1}     &      -0.6734  &        0.160     &    -4.210  &         0.000        &       -0.987    &       -0.360     \\\\\n",
       "\\textbf{ar.L2}     &      -0.2260  &        0.079     &    -2.865  &         0.004        &       -0.381    &       -0.071     \\\\\n",
       "\\textbf{ar.L3}     &      -0.1109  &        0.071     &    -1.560  &         0.119        &       -0.250    &        0.028     \\\\\n",
       "\\textbf{ar.L4}     &      -0.4842  &        0.071     &    -6.844  &         0.000        &       -0.623    &       -0.346     \\\\\n",
       "\\textbf{ar.L5}     &      -0.5243  &        0.079     &    -6.607  &         0.000        &       -0.680    &       -0.369     \\\\\n",
       "\\textbf{ma.L1}     &       0.3899  &        0.196     &     1.989  &         0.047        &        0.006    &        0.774     \\\\\n",
       "\\textbf{sigma2}    &    7.944e+06  &     1.03e+06     &     7.723  &         0.000        &     5.93e+06    &     9.96e+06     \\\\\n",
       "\\bottomrule\n",
       "\\end{tabular}\n",
       "\\begin{tabular}{lclc}\n",
       "\\textbf{Ljung-Box (L1) (Q):}     & 0.01 & \\textbf{  Jarque-Bera (JB):  } & 4.20  \\\\\n",
       "\\textbf{Prob(Q):}                & 0.94 & \\textbf{  Prob(JB):          } & 0.12  \\\\\n",
       "\\textbf{Heteroskedasticity (H):} & 6.98 & \\textbf{  Skew:              } & 0.08  \\\\\n",
       "\\textbf{Prob(H) (two-sided):}    & 0.00 & \\textbf{  Kurtosis:          } & 3.90  \\\\\n",
       "\\bottomrule\n",
       "\\end{tabular}\n",
       "%\\caption{SARIMAX Results}\n",
       "\\end{center}\n",
       "\n",
       "Warnings: \\newline\n",
       " [1] Covariance matrix calculated using the outer product of gradients (complex-step). \\newline\n",
       " [2] Covariance matrix is singular or near-singular, with condition number 6.84e+14. Standard errors may be unstable."
      ],
      "text/plain": [
       "<class 'statsmodels.iolib.summary.Summary'>\n",
       "\"\"\"\n",
       "                               SARIMAX Results                                \n",
       "==============================================================================\n",
       "Dep. Variable:                      y   No. Observations:                  122\n",
       "Model:               SARIMAX(5, 1, 1)   Log Likelihood               -1129.776\n",
       "Date:                Tue, 27 Aug 2024   AIC                           2275.552\n",
       "Time:                        18:43:58   BIC                           2297.919\n",
       "Sample:                    04-30-2014   HQIC                          2284.636\n",
       "                         - 05-31-2024                                         \n",
       "Covariance Type:                  opg                                         \n",
       "==============================================================================\n",
       "                 coef    std err          z      P>|z|      [0.025      0.975]\n",
       "------------------------------------------------------------------------------\n",
       "intercept   1035.1494    404.056      2.562      0.010     243.214    1827.085\n",
       "ar.L1         -0.6734      0.160     -4.210      0.000      -0.987      -0.360\n",
       "ar.L2         -0.2260      0.079     -2.865      0.004      -0.381      -0.071\n",
       "ar.L3         -0.1109      0.071     -1.560      0.119      -0.250       0.028\n",
       "ar.L4         -0.4842      0.071     -6.844      0.000      -0.623      -0.346\n",
       "ar.L5         -0.5243      0.079     -6.607      0.000      -0.680      -0.369\n",
       "ma.L1          0.3899      0.196      1.989      0.047       0.006       0.774\n",
       "sigma2      7.944e+06   1.03e+06      7.723      0.000    5.93e+06    9.96e+06\n",
       "===================================================================================\n",
       "Ljung-Box (L1) (Q):                   0.01   Jarque-Bera (JB):                 4.20\n",
       "Prob(Q):                              0.94   Prob(JB):                         0.12\n",
       "Heteroskedasticity (H):               6.98   Skew:                             0.08\n",
       "Prob(H) (two-sided):                  0.00   Kurtosis:                         3.90\n",
       "===================================================================================\n",
       "\n",
       "Warnings:\n",
       "[1] Covariance matrix calculated using the outer product of gradients (complex-step).\n",
       "[2] Covariance matrix is singular or near-singular, with condition number 6.84e+14. Standard errors may be unstable.\n",
       "\"\"\""
      ]
     },
     "execution_count": 100,
     "metadata": {},
     "output_type": "execute_result"
    }
   ],
   "source": [
    "stepwise_fit.summary()"
   ]
  },
  {
   "cell_type": "code",
   "execution_count": 101,
   "id": "272d10b8-ba8a-4ecb-9390-81173565422b",
   "metadata": {},
   "outputs": [
    {
     "name": "stdout",
     "output_type": "stream",
     "text": [
      "(122, 4)\n"
     ]
    }
   ],
   "source": [
    "print(dfm_3.shape)"
   ]
  },
  {
   "cell_type": "code",
   "execution_count": 102,
   "id": "191ea136-8b76-43e0-a539-835797ec9220",
   "metadata": {},
   "outputs": [
    {
     "name": "stdout",
     "output_type": "stream",
     "text": [
      "(96, 4) (27, 4)\n"
     ]
    }
   ],
   "source": [
    "train_date = '2022-4-1'\n",
    "test_date = '2022-3-31'\n",
    "train_Rel=dfm_3[:train_date]\n",
    "test_Rel=dfm_3[test_date:]\n",
    "\n",
    "print(train_Rel.shape,test_Rel.shape)"
   ]
  },
  {
   "cell_type": "code",
   "execution_count": 103,
   "id": "922c7ce7-2018-448e-9329-0c17cbe7a704",
   "metadata": {},
   "outputs": [],
   "source": [
    "train_Rel['Adj Close'].plot(legend=True,label='Train')\n",
    "test_Rel['Adj Close'].plot(legend=True,label='Test')\n",
    "plt.savefig('futureDate.png')\n",
    "plt.close()\n",
    "\n",
    "# Display the saved image\n",
    "image_futureDate = 'futureDate.png'\n",
    "image_futureDate = Image.open(image_futureDate)\n",
    "image_futureDate.show()"
   ]
  },
  {
   "cell_type": "code",
   "execution_count": 104,
   "id": "f7f20cac-4607-42ca-83f7-5049618a6b6a",
   "metadata": {},
   "outputs": [
    {
     "name": "stdout",
     "output_type": "stream",
     "text": [
      "Date\n",
      "2022-03-31    38674.983115\n",
      "2022-04-30    42055.895891\n",
      "2022-05-31    53823.447655\n",
      "2022-06-30    50761.938373\n",
      "2022-07-31    49312.750079\n",
      "Freq: ME, Name: predicted_mean, dtype: float64\n"
     ]
    }
   ],
   "source": [
    "from statsmodels.tsa.statespace.sarimax import SARIMAX\n",
    "model=SARIMAX(train_Rel['Adj Close'],order=(1,1,6),seasonal_order=(1,2,1,12))\n",
    "                                          \n",
    "model_fit=model.fit(disp=False)\n",
    "\n",
    "# Making predictions\n",
    "start_index = len(train_Rel)\n",
    "end_index = start_index + len(test_Rel) - 1\n",
    "predictions = model_fit.predict(start=start_index, end=end_index)\n",
    "\n",
    "# Ensure the predictions have the same index as the test data\n",
    "predictions.index = test_Rel.index\n",
    "# Combine the training data and the predicted values for a seamless transition\n",
    "combined = pd.concat([train_Rel['Adj Close'], predictions])\n",
    "# Display the first 5 predictions\n",
    "print(predictions[:5])"
   ]
  },
  {
   "cell_type": "code",
   "execution_count": 105,
   "id": "da927e85-8be8-472b-a950-45c998ec57bf",
   "metadata": {},
   "outputs": [],
   "source": [
    "# Model Evaluation\n",
    "from sklearn.metrics import mean_squared_error"
   ]
  },
  {
   "cell_type": "code",
   "execution_count": 110,
   "id": "f04b111b-d0c6-416c-9346-d86cb81693f2",
   "metadata": {},
   "outputs": [
    {
     "name": "stdout",
     "output_type": "stream",
     "text": [
      "Shape of test_Rel: (27, 4)\n",
      "Length of predictions: 27\n",
      "RMSE: 6627.177637483066\n",
      "MAPE: 0.11692149491155945\n",
      "Mean of Adj_Close: 49766.75400133333\n",
      "Standard Deviation of Adj_Close: 5302.986980057101\n"
     ]
    }
   ],
   "source": [
    "# Assuming test_REL_adjc_m is a DataFrame and predictions is a Series or array\n",
    "# Check the shapes or lengths\n",
    "print(\"Shape of test_Rel:\", test_Rel.shape)\n",
    "print(\"Length of predictions:\", len(predictions))\n",
    "\n",
    "# Ensure they have the same length or shape\n",
    "if test_Rel.shape[0] != len(predictions):\n",
    "    raise ValueError(\"Lengths of test_Rel and predictions must be the same.\")\n",
    "\n",
    "# Select the column of interest from the DataFrame if necessary\n",
    "y_true = test_Rel['Adj Close']  # Assuming 'Adj_Close' is the column of interest\n",
    "\n",
    "# Calculate RMSE\n",
    "error = np.sqrt(mean_squared_error(y_true, predictions))\n",
    "print(\"RMSE:\", error)\n",
    "\n",
    "#Calculate MAPE\n",
    "mape=np.mean(np.abs(predictions - y_true )/np.abs(y_true))\n",
    "print('MAPE:',mape)\n",
    "\n",
    "# Alternatively, calculate mean and standard deviation\n",
    "# Calculate mean and standard deviation for 'Adj_Close' column\n",
    "mean_adj_close = test_Rel['Adj Close'].mean()\n",
    "std_dev_adj_close = np.sqrt(test_Rel['Adj Close'].var())\n",
    "\n",
    "print(\"Mean of Adj_Close:\", mean_adj_close)\n",
    "print(\"Standard Deviation of Adj_Close:\", std_dev_adj_close)\n"
   ]
  },
  {
   "cell_type": "code",
   "execution_count": 111,
   "id": "fc22d677-a527-4417-9f68-df689fdcb55f",
   "metadata": {},
   "outputs": [
    {
     "data": {
      "text/html": [
       "<div>\n",
       "<style scoped>\n",
       "    .dataframe tbody tr th:only-of-type {\n",
       "        vertical-align: middle;\n",
       "    }\n",
       "\n",
       "    .dataframe tbody tr th {\n",
       "        vertical-align: top;\n",
       "    }\n",
       "\n",
       "    .dataframe thead th {\n",
       "        text-align: right;\n",
       "    }\n",
       "</style>\n",
       "<table border=\"1\" class=\"dataframe\">\n",
       "  <thead>\n",
       "    <tr style=\"text-align: right;\">\n",
       "      <th></th>\n",
       "    </tr>\n",
       "    <tr>\n",
       "      <th>Dates</th>\n",
       "    </tr>\n",
       "  </thead>\n",
       "  <tbody>\n",
       "    <tr>\n",
       "      <th>2024-06-30</th>\n",
       "    </tr>\n",
       "    <tr>\n",
       "      <th>2024-07-31</th>\n",
       "    </tr>\n",
       "    <tr>\n",
       "      <th>2024-08-31</th>\n",
       "    </tr>\n",
       "    <tr>\n",
       "      <th>2024-09-30</th>\n",
       "    </tr>\n",
       "    <tr>\n",
       "      <th>2024-10-31</th>\n",
       "    </tr>\n",
       "  </tbody>\n",
       "</table>\n",
       "</div>"
      ],
      "text/plain": [
       "Empty DataFrame\n",
       "Columns: []\n",
       "Index: [2024-06-30 00:00:00, 2024-07-31 00:00:00, 2024-08-31 00:00:00, 2024-09-30 00:00:00, 2024-10-31 00:00:00]"
      ]
     },
     "execution_count": 111,
     "metadata": {},
     "output_type": "execute_result"
    }
   ],
   "source": [
    "futureDate=pd.DataFrame(pd.date_range(start='2024-06-30',end='2026-05-31',freq='M'),columns=['Dates'])\n",
    "futureDate.set_index('Dates',inplace=True)\n",
    "futureDate.head()"
   ]
  },
  {
   "cell_type": "code",
   "execution_count": 112,
   "id": "d3fe2890-9ebf-4863-9590-b419b46a5bb3",
   "metadata": {},
   "outputs": [],
   "source": [
    "forecast=model_fit.predict(start=futureDate.index[0],end=futureDate.index[-1])\n",
    "\n",
    "combined = pd.concat([predictions,forecast])"
   ]
  },
  {
   "cell_type": "code",
   "execution_count": 113,
   "id": "73f9be88-c188-445b-b65c-0e427ec6b381",
   "metadata": {},
   "outputs": [],
   "source": [
    "#Visualizations\n",
    "# Plotting the training and test data\n",
    "dfm_3.dropna()\n",
    "plt.plot(train_Rel['Adj Close'], label='Training Data')\n",
    "plt.plot(test_Rel['Adj Close'], label='Test Data')\n",
    "plt.plot(predictions, label='Predictions')\n",
    "plt.plot(forecast, label='forecast')\n",
    "plt.legend()\n",
    "\n",
    "\n",
    "\n",
    "\n",
    "# Adding labels and title\n",
    "plt.xlabel('Date')\n",
    "plt.ylabel('Adjusted Close Price')\n",
    "plt.title('Training Data, Test Data, and Predictions')\n",
    "\n",
    "plt.savefig('train_test_reliance.png')\n",
    "plt.close()\n",
    "\n",
    "# Display the saved image\n",
    "image_path5 = 'train_test_reliance.png'\n",
    "image5 = Image.open(image_path5)\n",
    "image5.show()"
   ]
  }
 ],
 "metadata": {
  "kernelspec": {
   "display_name": "Python 3 (ipykernel)",
   "language": "python",
   "name": "python3"
  },
  "language_info": {
   "codemirror_mode": {
    "name": "ipython",
    "version": 3
   },
   "file_extension": ".py",
   "mimetype": "text/x-python",
   "name": "python",
   "nbconvert_exporter": "python",
   "pygments_lexer": "ipython3",
   "version": "3.11.9"
  }
 },
 "nbformat": 4,
 "nbformat_minor": 5
}
